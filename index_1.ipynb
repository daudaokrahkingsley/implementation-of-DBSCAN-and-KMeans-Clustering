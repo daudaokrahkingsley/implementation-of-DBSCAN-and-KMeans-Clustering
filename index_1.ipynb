{
 "cells": [
  {
   "cell_type": "code",
   "execution_count": 2,
   "id": "9c40fc26-43e8-4ce9-8ada-57240fd9ecf9",
   "metadata": {},
   "outputs": [],
   "source": [
    "import numpy as np\n",
    "import pandas as pd\n",
    "import matplotlib.pyplot as plt\n",
    "import warnings \n",
    "warnings.filterwarnings('ignore')"
   ]
  },
  {
   "cell_type": "code",
   "execution_count": 3,
   "id": "a584fff3-a8fc-4e22-a3b6-62984c2e46bf",
   "metadata": {},
   "outputs": [
    {
     "data": {
      "text/html": [
       "<div>\n",
       "<style scoped>\n",
       "    .dataframe tbody tr th:only-of-type {\n",
       "        vertical-align: middle;\n",
       "    }\n",
       "\n",
       "    .dataframe tbody tr th {\n",
       "        vertical-align: top;\n",
       "    }\n",
       "\n",
       "    .dataframe thead th {\n",
       "        text-align: right;\n",
       "    }\n",
       "</style>\n",
       "<table border=\"1\" class=\"dataframe\">\n",
       "  <thead>\n",
       "    <tr style=\"text-align: right;\">\n",
       "      <th></th>\n",
       "      <th>CustomerID</th>\n",
       "      <th>Gender</th>\n",
       "      <th>Age</th>\n",
       "      <th>Annual Income (k$)</th>\n",
       "      <th>Spending Score (1-100)</th>\n",
       "    </tr>\n",
       "  </thead>\n",
       "  <tbody>\n",
       "    <tr>\n",
       "      <th>0</th>\n",
       "      <td>1</td>\n",
       "      <td>Male</td>\n",
       "      <td>19</td>\n",
       "      <td>15</td>\n",
       "      <td>39</td>\n",
       "    </tr>\n",
       "    <tr>\n",
       "      <th>1</th>\n",
       "      <td>2</td>\n",
       "      <td>Male</td>\n",
       "      <td>21</td>\n",
       "      <td>15</td>\n",
       "      <td>81</td>\n",
       "    </tr>\n",
       "  </tbody>\n",
       "</table>\n",
       "</div>"
      ],
      "text/plain": [
       "   CustomerID Gender  Age  Annual Income (k$)  Spending Score (1-100)\n",
       "0           1   Male   19                  15                      39\n",
       "1           2   Male   21                  15                      81"
      ]
     },
     "execution_count": 3,
     "metadata": {},
     "output_type": "execute_result"
    }
   ],
   "source": [
    "df = pd.read_csv('Mall_Customers.csv')\n",
    "df.head(2)"
   ]
  },
  {
   "cell_type": "code",
   "execution_count": 4,
   "id": "93d1a900-b7d8-455a-b4d3-25cdbbdae9d6",
   "metadata": {},
   "outputs": [],
   "source": [
    "df = df.loc[:,['Annual Income (k$)', 'Spending Score (1-100)']]"
   ]
  },
  {
   "cell_type": "code",
   "execution_count": 5,
   "id": "34011370-0d4d-4e7b-9f01-0b5c8e3d9bf7",
   "metadata": {},
   "outputs": [
    {
     "data": {
      "text/plain": [
       "<matplotlib.collections.PathCollection at 0x2ce831342b0>"
      ]
     },
     "execution_count": 5,
     "metadata": {},
     "output_type": "execute_result"
    },
    {
     "data": {
      "image/png": "[encoded data removed]",
      "text/plain": [
       "<Figure size 720x504 with 1 Axes>"
      ]
     },
     "metadata": {
      "needs_background": "light"
     },
     "output_type": "display_data"
    }
   ],
   "source": [
    "plt.figure(figsize=(10,7))\n",
    "plt.scatter(df['Annual Income (k$)'], df['Spending Score (1-100)'], s=10, c='red')"
   ]
  },
  {
   "cell_type": "code",
   "execution_count": 6,
   "id": "269dc7a6-49b7-4b54-a64d-d353ef49cb45",
   "metadata": {},
   "outputs": [],
   "source": [
    "from sklearn.cluster import KMeans\n"
   ]
  },
  {
   "cell_type": "code",
   "execution_count": 7,
   "id": "9a817a4d-aab4-4ab1-852d-ef242aa37fc3",
   "metadata": {},
   "outputs": [
    {
     "data": {
      "image/png": "[encoded data removed]",
      "text/plain": [
       "<Figure size 432x288 with 1 Axes>"
      ]
     },
     "metadata": {
      "needs_background": "light"
     },
     "output_type": "display_data"
    }
   ],
   "source": [
    "wcss = []\n",
    "for i in range(1,11):\n",
    "    kmeans = KMeans(n_clusters = i,\n",
    "    init ='k-means++', max_iter=300, n_init =10)\n",
    "    kmeans.fit(df)\n",
    "    wcss.append(kmeans.inertia_)\n",
    "    \n",
    "plt.plot(range(1,11), wcss)\n",
    "plt.title(\"The Elbow Method\")\n",
    "plt.xlabel('The Number of Clusters')\n",
    "plt.ylabel(\"WCSS\")\n",
    "plt.show()\n",
    "\n",
    "    \n",
    "                    "
   ]
  },
  {
   "cell_type": "code",
   "execution_count": null,
   "id": "05da3953-b47a-4d0c-85f4-5a9df471cb6e",
   "metadata": {},
   "outputs": [],
   "source": []
  },
  {
   "cell_type": "code",
   "execution_count": null,
   "id": "2e882009-dec9-4fbc-8a85-e9cbb74e2be7",
   "metadata": {},
   "outputs": [],
   "source": []
  },
  {
   "cell_type": "code",
   "execution_count": 8,
   "id": "b3ef0b99-8ef0-4892-a9c2-f3117996f915",
   "metadata": {},
   "outputs": [],
   "source": [
    "from sklearn.cluster import DBSCAN"
   ]
  },
  {
   "cell_type": "code",
   "execution_count": 9,
   "id": "93433832-6ea1-4a31-874d-40f46cb01333",
   "metadata": {},
   "outputs": [],
   "source": [
    "dbscan = DBSCAN(eps=5, min_samples = 5,\n",
    "                metric_params=None, algorithm='auto')"
   ]
  },
  {
   "cell_type": "code",
   "execution_count": 10,
   "id": "b4d6376e-dbbc-4c37-8f58-6f83e5fb91fc",
   "metadata": {},
   "outputs": [],
   "source": [
    "labels = dbscan.fit_predict(df)\n"
   ]
  },
  {
   "cell_type": "code",
   "execution_count": 11,
   "id": "54bc3ca6-8fb2-43ad-ba05-d915abed01e5",
   "metadata": {},
   "outputs": [
    {
     "data": {
      "text/plain": [
       "array([-1,  0,  1,  2,  3,  4], dtype=int64)"
      ]
     },
     "execution_count": 11,
     "metadata": {},
     "output_type": "execute_result"
    }
   ],
   "source": [
    "np.unique(labels)"
   ]
  },
  {
   "cell_type": "code",
   "execution_count": null,
   "id": "6dd511b9-5f81-4e0c-9fcd-d6af5685c385",
   "metadata": {},
   "outputs": [],
   "source": [
    "plt.scatter(df[labels == -1, 0], df[labels==-1,1], s=10, c='red')\n",
    "\n",
    "plt.scatter(df[labels == 0, 0], df[labels==0,1], s=10, c='green')\n",
    "plt.scatter(df[labels == 1, 0], df[labels==1,1], s=10, c='black')\n",
    "plt.scatter(df[labels == 2, 0], df[labels==2,1], s=10, c='brown')\n",
    "plt.scatter(df[labels == 3, 0], df[labels==3,1], s=10, c='silver')\n",
    "plt.scatter(df[labels == 4, 0], df[labels==4,1], s=10, c='pin')\n",
    "plt.scatter(df[labels == 5, 0], df[labels==5,1], s=10, c='yellow')\n",
    "\n",
    "plt.xlabel('Annual Income')\n",
    "plt.xlabel('Spending Score')\n",
    "plt.show()"
   ]
  },
  {
   "cell_type": "code",
   "execution_count": null,
   "id": "b9cec9fa-5848-4c74-afa7-b0cfe1643d6c",
   "metadata": {},
   "outputs": [],
   "source": []
  }
 ],
 "metadata": {
  "kernelspec": {
   "display_name": "Python 3",
   "language": "python",
   "name": "python3"
  },
  "language_info": {
   "codemirror_mode": {
    "name": "ipython",
    "version": 3
   },
   "file_extension": ".py",
   "mimetype": "text/x-python",
   "name": "python",
   "nbconvert_exporter": "python",
   "pygments_lexer": "ipython3",
   "version": "3.8.8"
  }
 },
 "nbformat": 4,
 "nbformat_minor": 5
}
