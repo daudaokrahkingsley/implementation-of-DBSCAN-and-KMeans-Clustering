{
 "cells": [
  {
   "cell_type": "code",
   "execution_count": 33,
   "id": "69a9ba24-5566-431a-8ab7-be11f595aa47",
   "metadata": {},
   "outputs": [],
   "source": [
    "import pandas as pd \n",
    "import numpy as np\n",
    "import matplotlib.pyplot as plt\n",
    "import seaborn as sns\n",
    "from sklearn.preprocessing import OneHotEncoder"
   ]
  },
  {
   "cell_type": "code",
   "execution_count": null,
   "id": "9a97d137-3cf7-4943-9c49-a533ae193216",
   "metadata": {},
   "outputs": [],
   "source": [
    "df = pd.read_csv('movies.csv')\n",
    "df.head(2)"
   ]
  },
  {
   "cell_type": "code",
   "execution_count": null,
   "id": "6d2696e0-6a61-4aa6-9216-ee6681293754",
   "metadata": {},
   "outputs": [],
   "source": [
    "df[['genres']]"
   ]
  },
  {
   "cell_type": "code",
   "execution_count": null,
   "id": "4e8ffa48-7f50-4324-bfbe-df2574698842",
   "metadata": {},
   "outputs": [],
   "source": [
    "df['movieId']"
   ]
  },
  {
   "cell_type": "code",
   "execution_count": null,
   "id": "c81b9b16-3181-46f2-8e4b-acb7155b12d9",
   "metadata": {},
   "outputs": [],
   "source": [
    "mov = df.loc[:, ['movieId', 'genres']]"
   ]
  },
  {
   "cell_type": "code",
   "execution_count": null,
   "id": "b604768e-4575-4d53-b943-ad311b354596",
   "metadata": {},
   "outputs": [],
   "source": [
    "mov"
   ]
  },
  {
   "cell_type": "code",
   "execution_count": null,
   "id": "89eaecf3-4a77-45ff-8939-995e99c39e0f",
   "metadata": {},
   "outputs": [],
   "source": [
    "mov\n"
   ]
  },
  {
   "cell_type": "markdown",
   "id": "422ad40d-7231-43e7-9d3e-54e17087e42c",
   "metadata": {},
   "source": [
    "## Clustering Aspect"
   ]
  },
  {
   "cell_type": "code",
   "execution_count": 21,
   "id": "11cbbd67-b130-44d9-a7c7-d6145adb4f99",
   "metadata": {},
   "outputs": [],
   "source": [
    "from sklearn.cluster import AgglomerativeClustering\n"
   ]
  },
  {
   "cell_type": "code",
   "execution_count": 31,
   "id": "4f31ac72-b986-4763-88ed-dfedf1cab928",
   "metadata": {},
   "outputs": [
    {
     "data": {
      "text/html": [
       "<div>\n",
       "<style scoped>\n",
       "    .dataframe tbody tr th:only-of-type {\n",
       "        vertical-align: middle;\n",
       "    }\n",
       "\n",
       "    .dataframe tbody tr th {\n",
       "        vertical-align: top;\n",
       "    }\n",
       "\n",
       "    .dataframe thead th {\n",
       "        text-align: right;\n",
       "    }\n",
       "</style>\n",
       "<table border=\"1\" class=\"dataframe\">\n",
       "  <thead>\n",
       "    <tr style=\"text-align: right;\">\n",
       "      <th></th>\n",
       "      <th>movieId</th>\n",
       "    </tr>\n",
       "    <tr>\n",
       "      <th>genres</th>\n",
       "      <th></th>\n",
       "    </tr>\n",
       "  </thead>\n",
       "  <tbody>\n",
       "    <tr>\n",
       "      <th>(no genres listed)</th>\n",
       "      <td>34</td>\n",
       "    </tr>\n",
       "    <tr>\n",
       "      <th>Action</th>\n",
       "      <td>60</td>\n",
       "    </tr>\n",
       "    <tr>\n",
       "      <th>Action|Adventure</th>\n",
       "      <td>32</td>\n",
       "    </tr>\n",
       "    <tr>\n",
       "      <th>Action|Adventure|Animation</th>\n",
       "      <td>18</td>\n",
       "    </tr>\n",
       "    <tr>\n",
       "      <th>Action|Adventure|Animation|Children</th>\n",
       "      <td>6</td>\n",
       "    </tr>\n",
       "    <tr>\n",
       "      <th>...</th>\n",
       "      <td>...</td>\n",
       "    </tr>\n",
       "    <tr>\n",
       "      <th>Sci-Fi|Thriller</th>\n",
       "      <td>23</td>\n",
       "    </tr>\n",
       "    <tr>\n",
       "      <th>Sci-Fi|Thriller|IMAX</th>\n",
       "      <td>1</td>\n",
       "    </tr>\n",
       "    <tr>\n",
       "      <th>Thriller</th>\n",
       "      <td>84</td>\n",
       "    </tr>\n",
       "    <tr>\n",
       "      <th>War</th>\n",
       "      <td>4</td>\n",
       "    </tr>\n",
       "    <tr>\n",
       "      <th>Western</th>\n",
       "      <td>23</td>\n",
       "    </tr>\n",
       "  </tbody>\n",
       "</table>\n",
       "<p>951 rows × 1 columns</p>\n",
       "</div>"
      ],
      "text/plain": [
       "                                     movieId\n",
       "genres                                      \n",
       "(no genres listed)                        34\n",
       "Action                                    60\n",
       "Action|Adventure                          32\n",
       "Action|Adventure|Animation                18\n",
       "Action|Adventure|Animation|Children        6\n",
       "...                                      ...\n",
       "Sci-Fi|Thriller                           23\n",
       "Sci-Fi|Thriller|IMAX                       1\n",
       "Thriller                                  84\n",
       "War                                        4\n",
       "Western                                   23\n",
       "\n",
       "[951 rows x 1 columns]"
      ]
     },
     "execution_count": 31,
     "metadata": {},
     "output_type": "execute_result"
    }
   ],
   "source": [
    "mov.groupby('genres').count()"
   ]
  },
  {
   "cell_type": "code",
   "execution_count": 36,
   "id": "40fc511a-6cc1-4c3e-8322-e160891008bd",
   "metadata": {},
   "outputs": [
    {
     "data": {
      "text/plain": [
       "Drama                                     1053\n",
       "Comedy                                     946\n",
       "Comedy|Drama                               435\n",
       "Comedy|Romance                             363\n",
       "Drama|Romance                              349\n",
       "                                          ... \n",
       "Action|Sci-Fi|Thriller|Western               1\n",
       "Action|Adventure|Comedy|Fantasy|Sci-Fi       1\n",
       "Action|Animation|Crime|Thriller              1\n",
       "Action|Crime|Mystery|Romance|Thriller        1\n",
       "Adventure|Drama|Fantasy|IMAX                 1\n",
       "Name: genres, Length: 951, dtype: int64"
      ]
     },
     "execution_count": 36,
     "metadata": {},
     "output_type": "execute_result"
    }
   ],
   "source": [
    "mov['genres'].value_counts()"
   ]
  },
  {
   "cell_type": "code",
   "execution_count": 37,
   "id": "f52013b4-3631-42e0-bc2f-89ae20676a03",
   "metadata": {},
   "outputs": [
    {
     "data": {
      "text/html": [
       "<div>\n",
       "<style scoped>\n",
       "    .dataframe tbody tr th:only-of-type {\n",
       "        vertical-align: middle;\n",
       "    }\n",
       "\n",
       "    .dataframe tbody tr th {\n",
       "        vertical-align: top;\n",
       "    }\n",
       "\n",
       "    .dataframe thead th {\n",
       "        text-align: right;\n",
       "    }\n",
       "</style>\n",
       "<table border=\"1\" class=\"dataframe\">\n",
       "  <thead>\n",
       "    <tr style=\"text-align: right;\">\n",
       "      <th></th>\n",
       "      <th>movieId</th>\n",
       "      <th>title</th>\n",
       "      <th>genres</th>\n",
       "    </tr>\n",
       "  </thead>\n",
       "  <tbody>\n",
       "    <tr>\n",
       "      <th>0</th>\n",
       "      <td>1</td>\n",
       "      <td>Toy Story (1995)</td>\n",
       "      <td>Adventure|Animation|Children|Comedy|Fantasy</td>\n",
       "    </tr>\n",
       "    <tr>\n",
       "      <th>1</th>\n",
       "      <td>2</td>\n",
       "      <td>Jumanji (1995)</td>\n",
       "      <td>Adventure|Children|Fantasy</td>\n",
       "    </tr>\n",
       "    <tr>\n",
       "      <th>2</th>\n",
       "      <td>3</td>\n",
       "      <td>Grumpier Old Men (1995)</td>\n",
       "      <td>Comedy|Romance</td>\n",
       "    </tr>\n",
       "    <tr>\n",
       "      <th>3</th>\n",
       "      <td>4</td>\n",
       "      <td>Waiting to Exhale (1995)</td>\n",
       "      <td>Comedy|Drama|Romance</td>\n",
       "    </tr>\n",
       "    <tr>\n",
       "      <th>4</th>\n",
       "      <td>5</td>\n",
       "      <td>Father of the Bride Part II (1995)</td>\n",
       "      <td>Comedy</td>\n",
       "    </tr>\n",
       "  </tbody>\n",
       "</table>\n",
       "</div>"
      ],
      "text/plain": [
       "   movieId                               title  \\\n",
       "0        1                    Toy Story (1995)   \n",
       "1        2                      Jumanji (1995)   \n",
       "2        3             Grumpier Old Men (1995)   \n",
       "3        4            Waiting to Exhale (1995)   \n",
       "4        5  Father of the Bride Part II (1995)   \n",
       "\n",
       "                                        genres  \n",
       "0  Adventure|Animation|Children|Comedy|Fantasy  \n",
       "1                   Adventure|Children|Fantasy  \n",
       "2                               Comedy|Romance  \n",
       "3                         Comedy|Drama|Romance  \n",
       "4                                       Comedy  "
      ]
     },
     "execution_count": 37,
     "metadata": {},
     "output_type": "execute_result"
    }
   ],
   "source": [
    "\n",
    "mov['movieId'] = mov['genres'].apply(lambda x: 1 if x == 'movieId' else 0)\n",
    "df.head()"
   ]
  },
  {
   "cell_type": "code",
   "execution_count": null,
   "id": "5a2375c4-4d05-4e46-a21d-6b9941b3c45e",
   "metadata": {},
   "outputs": [],
   "source": []
  }
 ],
 "metadata": {
  "kernelspec": {
   "display_name": "Python 3",
   "language": "python",
   "name": "python3"
  },
  "language_info": {
   "codemirror_mode": {
    "name": "ipython",
    "version": 3
   },
   "file_extension": ".py",
   "mimetype": "text/x-python",
   "name": "python",
   "nbconvert_exporter": "python",
   "pygments_lexer": "ipython3",
   "version": "3.8.8"
  }
 },
 "nbformat": 4,
 "nbformat_minor": 5
}
